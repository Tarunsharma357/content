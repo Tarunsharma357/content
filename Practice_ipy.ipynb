{
  "cells": [
    {
      "cell_type": "markdown",
      "metadata": {
        "id": "view-in-github",
        "colab_type": "text"
      },
      "source": [
        "<a href=\"https://colab.research.google.com/github/Tarunsharma357/content/blob/main/Practice_ipy.ipynb\" target=\"_parent\"><img src=\"https://colab.research.google.com/assets/colab-badge.svg\" alt=\"Open In Colab\"/></a>"
      ]
    },
    {
      "cell_type": "code",
      "execution_count": null,
      "metadata": {
        "colab": {
          "base_uri": "https://localhost:8080/"
        },
        "id": "B5x-9ICRl-vt",
        "outputId": "f8971016-45ed-4ac1-ec5e-859537d92cb4"
      },
      "outputs": [
        {
          "output_type": "stream",
          "name": "stdout",
          "text": [
            "hello world\n"
          ]
        }
      ],
      "source": [
        "print(\"hello world\")"
      ]
    },
    {
      "cell_type": "code",
      "execution_count": null,
      "metadata": {
        "colab": {
          "base_uri": "https://localhost:8080/"
        },
        "id": "cajjcy5YmHei",
        "outputId": "51eb7a5c-3635-4c54-b15d-614cdf6656ad"
      },
      "outputs": [
        {
          "output_type": "stream",
          "name": "stdout",
          "text": [
            "15\n",
            "15\n"
          ]
        }
      ],
      "source": [
        "a = int(input())\n",
        "print(a)"
      ]
    },
    {
      "cell_type": "code",
      "execution_count": null,
      "metadata": {
        "colab": {
          "base_uri": "https://localhost:8080/"
        },
        "id": "XyhULuoDmQrW",
        "outputId": "25c4d40c-ea73-4e19-c449-73e1c383a5b6"
      },
      "outputs": [
        {
          "output_type": "stream",
          "name": "stdout",
          "text": [
            "enter the value of z52\n",
            "enter the value of b5\n",
            "57\n"
          ]
        }
      ],
      "source": [
        "z = int(input(\"enter the value of z\"))\n",
        "b = int(input(\"enter the value of b\"))\n",
        "c = z + b\n",
        "print(c)"
      ]
    },
    {
      "cell_type": "code",
      "source": [
        ""
      ],
      "metadata": {
        "id": "9TOcKIJzL48k"
      },
      "execution_count": null,
      "outputs": []
    },
    {
      "cell_type": "code",
      "execution_count": null,
      "metadata": {
        "colab": {
          "base_uri": "https://localhost:8080/"
        },
        "id": "FvHRBnB4nCrr",
        "outputId": "f5d1c487-7aab-4fd3-a1f9-5c4271b9ce57"
      },
      "outputs": [
        {
          "output_type": "stream",
          "name": "stdout",
          "text": [
            "5\n",
            "54\n",
            "quo 10.8\n",
            "rem 4\n"
          ]
        }
      ],
      "source": [
        " divisor = int(input())\n",
        " divedend = int(input())\n",
        " quo = divedend/divisor\n",
        " rem = divedend % divisor\n",
        " print(\"quo\",quo)\n",
        " print(\"rem\",rem)"
      ]
    },
    {
      "cell_type": "code",
      "execution_count": null,
      "metadata": {
        "colab": {
          "base_uri": "https://localhost:8080/"
        },
        "id": "b5-JSkFDn6Gl",
        "outputId": "bac9e511-6f22-4974-d0c0-8ec6691f2629"
      },
      "outputs": [
        {
          "output_type": "stream",
          "name": "stdout",
          "text": [
            "enter num25\n",
            "enter har52\n",
            "num 52\n",
            "har 25\n"
          ]
        }
      ],
      "source": [
        "num = int(input(\"enter num\"))\n",
        "har = int(input(\"enter har\"))\n",
        "temp = num\n",
        "num = har\n",
        "har = temp\n",
        "print(\"num\",num)\n",
        "print (\"har\",har)\n"
      ]
    },
    {
      "cell_type": "code",
      "execution_count": null,
      "metadata": {
        "colab": {
          "base_uri": "https://localhost:8080/"
        },
        "id": "5DbuFvf7pdk3",
        "outputId": "4b4be57c-8446-4ca2-a9af-19c4a4c9c5be"
      },
      "outputs": [
        {
          "output_type": "stream",
          "name": "stdout",
          "text": [
            "112\n"
          ]
        }
      ],
      "source": [
        " c= \"p\"\n",
        " print(ord(c))"
      ]
    },
    {
      "cell_type": "code",
      "execution_count": null,
      "metadata": {
        "colab": {
          "base_uri": "https://localhost:8080/"
        },
        "id": "sjw85EI6qU9u",
        "outputId": "507ec4c4-86cf-4043-845e-8ce3d1ea8cf9"
      },
      "outputs": [
        {
          "output_type": "stream",
          "name": "stdout",
          "text": [
            "200\n"
          ]
        }
      ],
      "source": [
        "def mul(x,y):\n",
        "  three = x*y\n",
        "  print(three)\n",
        "mul(10,20)  \n"
      ]
    },
    {
      "cell_type": "code",
      "execution_count": null,
      "metadata": {
        "colab": {
          "base_uri": "https://localhost:8080/"
        },
        "id": "vwJ_t3eFs4nw",
        "outputId": "effe5eb6-0155-4d10-bcaa-467139fd866b"
      },
      "outputs": [
        {
          "output_type": "stream",
          "name": "stdout",
          "text": [
            "even\n",
            "odd\n"
          ]
        }
      ],
      "source": [
        "def eveodd(x):\n",
        "  if(x%2==0):\n",
        "    print(\"even\")\n",
        "  else:\n",
        "    print(\"odd\")\n",
        "eveodd(100) \n",
        "eveodd(255)\n"
      ]
    },
    {
      "cell_type": "code",
      "execution_count": null,
      "metadata": {
        "colab": {
          "base_uri": "https://localhost:8080/"
        },
        "id": "wav6u_86trrp",
        "outputId": "083d4dce-1a34-4daf-f618-281cef110ff2"
      },
      "outputs": [
        {
          "output_type": "stream",
          "name": "stdout",
          "text": [
            "enter the value of numbers123\n",
            "7626\n"
          ]
        }
      ],
      "source": [
        "numbers = int(input(\"enter the value of numbers\"))\n",
        "sum = 0\n",
        "while(numbers > 0):\n",
        "  sum = sum +numbers\n",
        "  numbers = numbers - 1;\n",
        "print(sum)"
      ]
    },
    {
      "cell_type": "code",
      "execution_count": null,
      "metadata": {
        "colab": {
          "base_uri": "https://localhost:8080/"
        },
        "id": "fPRcSPjxxJtX",
        "outputId": "df371d8d-5624-4865-f26e-25bbecf5368b"
      },
      "outputs": [
        {
          "output_type": "stream",
          "name": "stdout",
          "text": [
            "enter the value of numbers200\n",
            "788657867364790503552363213932185062295135977687173263294742533244359449963403342920304284011984623904177212138919638830257642790242637105061926624952829931113462857270763317237396988943922445621451664240254033291864131227428294853277524242407573903240321257405579568660226031904170324062351700858796178922222789623703897374720000000000000000000000000000000000000000000000000\n"
          ]
        }
      ],
      "source": [
        "number = int(input(\"enter the value of numbers\"))\n",
        "fact = 1\n",
        "while(number > 0):\n",
        "  fact = fact *number\n",
        "  number = number - 1;\n",
        "print(fact)"
      ]
    },
    {
      "cell_type": "code",
      "execution_count": null,
      "metadata": {
        "colab": {
          "base_uri": "https://localhost:8080/"
        },
        "id": "_c43bwJCG4_S",
        "outputId": "28514945-60c9-4d8f-faf4-81a100db27b8"
      },
      "outputs": [
        {
          "output_type": "stream",
          "name": "stdout",
          "text": [
            "enter the chartarun\n",
            "char is consonent\n"
          ]
        }
      ],
      "source": [
        "char = str(input(\"enter the char\"))\n",
        "if(char == 'a'or char == 'e' or char =='i'or char =='o' or char =='u'or char ==\n",
        "   'A' or char =='E' or char =='I' or char =='O' or char =='U' ):\n",
        "  print(\"char is a vowel\")\n",
        "else:\n",
        "  print(\"char is consonent\")  "
      ]
    },
    {
      "cell_type": "code",
      "execution_count": null,
      "metadata": {
        "colab": {
          "base_uri": "https://localhost:8080/"
        },
        "id": "MAlpWuxeJn_g",
        "outputId": "6fe7b736-df7e-43d0-f5c4-7e0401db55e2"
      },
      "outputs": [
        {
          "output_type": "stream",
          "name": "stdout",
          "text": [
            "30  is the largest 30\n",
            "yis the largest 958\n"
          ]
        }
      ],
      "source": [
        "def largest(x,y,z):\n",
        "  if(x>y and x>z):\n",
        "    print(x, \"is the largest\",x)\n",
        "  elif(y>x and y>z):\n",
        "    print('y'\"is the largest\",y)\n",
        "  elif(z>x and z>y):\n",
        "    print(z,\" is the largest\",z)\n",
        "largest(10,20,30) \n",
        "largest(500,958,2)   "
      ]
    },
    {
      "cell_type": "code",
      "execution_count": null,
      "metadata": {
        "colab": {
          "base_uri": "https://localhost:8080/"
        },
        "id": "HFS1-XY7VB7e",
        "outputId": "5a4e4370-a911-4b13-c444-43884add4eaf"
      },
      "outputs": [
        {
          "output_type": "stream",
          "name": "stdout",
          "text": [
            "enter the value of a1\n",
            "enter the value of b2\n",
            "enter the value of c1\n",
            "0.0\n",
            "-2.0\n",
            "-2.0\n"
          ]
        }
      ],
      "source": [
        "a = int(input(\"enter the value of a\"))\n",
        "b = int(input(\"enter the value of b\"))\n",
        "c = int(input(\"enter the value of c\"))\n",
        "D = (b**2 -(4*a*c))**0.5\n",
        "print(D)\n",
        "root1 = -b +(D)/2*a\n",
        "root2 = -b -(D)/2*a\n",
        "print(root1)\n",
        "print(root2)"
      ]
    },
    {
      "cell_type": "code",
      "execution_count": null,
      "metadata": {
        "colab": {
          "base_uri": "https://localhost:8080/"
        },
        "id": "6Lm1WkAmZm_m",
        "outputId": "cebefcd2-64ca-45c8-c199-f958e363cbca"
      },
      "outputs": [
        {
          "output_type": "stream",
          "name": "stdout",
          "text": [
            "enter the year2004\n",
            "leap year\n"
          ]
        }
      ],
      "source": [
        "year =int(input(\"enter the year\"))\n",
        "if(year % 4 == 0):\n",
        "  print(\"leap year\")\n",
        "else:\n",
        "  print(\"not a leap year\")"
      ]
    },
    {
      "cell_type": "code",
      "execution_count": null,
      "metadata": {
        "colab": {
          "base_uri": "https://localhost:8080/"
        },
        "id": "bxmA86WjaMLO",
        "outputId": "3778c0dc-80be-4fe3-a898-6889579a303d"
      },
      "outputs": [
        {
          "output_type": "stream",
          "name": "stdout",
          "text": [
            "enter the value of n15\n",
            "120\n"
          ]
        }
      ],
      "source": [
        "n = int(input(\"enter the value of n\"))\n",
        "c =0\n",
        "while  (n>0 ):\n",
        "  c = c +  n\n",
        "  n = n -1\n",
        "print(c)  "
      ]
    },
    {
      "cell_type": "code",
      "execution_count": null,
      "metadata": {
        "colab": {
          "base_uri": "https://localhost:8080/"
        },
        "id": "5CDaLkohbYqr",
        "outputId": "96a275e1-49d3-4f91-c6e1-bc10d82eff47"
      },
      "outputs": [
        {
          "output_type": "stream",
          "name": "stdout",
          "text": [
            "150\n",
            "11325\n"
          ]
        }
      ],
      "source": [
        "n1 = int(input())\n",
        "c =0\n",
        "for i in range (0,n1):\n",
        "  c = n1 + c\n",
        "  n1 = n1-1\n",
        "print(c)  "
      ]
    },
    {
      "cell_type": "code",
      "execution_count": null,
      "metadata": {
        "colab": {
          "base_uri": "https://localhost:8080/"
        },
        "id": "RGCN3OKxcRbk",
        "outputId": "4d9168a9-9a94-4a21-82ae-5e03ffe51002"
      },
      "outputs": [
        {
          "output_type": "stream",
          "name": "stdout",
          "text": [
            "enter the number for whic table is to be generated12\n",
            "enter the value upto which the table is to be generated 10\n",
            "12\n",
            "24\n",
            "36\n",
            "48\n",
            "60\n",
            "72\n",
            "84\n",
            "96\n",
            "108\n"
          ]
        }
      ],
      "source": [
        "mul = int(input(\"enter the number for whic table is to be generated\"))\n",
        "n = int(input(\"enter the value upto which the table is to be generated \"))\n",
        "for i in  range(1,n):\n",
        " c = mul * i\n",
        " print(c)"
      ]
    },
    {
      "cell_type": "code",
      "execution_count": null,
      "metadata": {
        "colab": {
          "base_uri": "https://localhost:8080/"
        },
        "id": "NfXaRWqrlARv",
        "outputId": "14ca6aed-177e-4f02-b40d-7bef67a446d1"
      },
      "outputs": [
        {
          "output_type": "stream",
          "name": "stdout",
          "text": [
            "enter the number15\n",
            "1\n",
            "2\n",
            "3\n",
            "5\n",
            "8\n",
            "13\n",
            "21\n",
            "34\n",
            "55\n",
            "89\n",
            "144\n",
            "233\n",
            "377\n",
            "610\n",
            "987\n"
          ]
        }
      ],
      "source": [
        "fib = int(input(\"enter the number\"))\n",
        "num1 =0\n",
        "num2 = 1\n",
        "if (fib < 0):\n",
        "  print(\"input is wrong\")\n",
        "if(fib == 0):\n",
        "  print(0)\n",
        "if(fib==1):\n",
        "  print(num1,num2)\n",
        "if(fib>1):\n",
        "  for i in range(0,fib):\n",
        "    c = num1+ num2\n",
        "    num1 =num2\n",
        "    num2 = c\n",
        "    print(c)"
      ]
    },
    {
      "cell_type": "code",
      "execution_count": null,
      "metadata": {
        "colab": {
          "base_uri": "https://localhost:8080/"
        },
        "id": "TGBMjukMBA3t",
        "outputId": "5dcd6eb1-27c4-48c8-c4ce-5944e976e656"
      },
      "outputs": [
        {
          "output_type": "stream",
          "name": "stdout",
          "text": [
            "enter the number12358\n",
            "85321\n"
          ]
        }
      ],
      "source": [
        "g = int(input(\"enter the number\"))\n",
        "rev= 0\n",
        "while(g!=0):\n",
        "  digit = g %10\n",
        "  rev = (rev * 10)+digit\n",
        "  g//= 10\n",
        "print(rev)"
      ]
    },
    {
      "cell_type": "code",
      "execution_count": null,
      "metadata": {
        "colab": {
          "base_uri": "https://localhost:8080/"
        },
        "id": "qw73BydkyA7E",
        "outputId": "7599eafc-925d-4a99-a08e-d5069dc57e91"
      },
      "outputs": [
        {
          "output_type": "stream",
          "name": "stdout",
          "text": [
            "enter the value of x25\n",
            "enter the value of y56\n",
            "1400\n"
          ]
        }
      ],
      "source": [
        "4x = int(input(\"enter the value of x\"))\n",
        "y = int(input(\"enter the value of y\"))\n",
        "if(x>y):\n",
        "  greater = x\n",
        "if(y>x):\n",
        "  greater =y\n",
        "while(True):\n",
        "  if( (greater%x == 0) and (greater % y ==0)):\n",
        "    lcm = greater\n",
        "    break\n",
        "  greater +=1\n",
        "print(lcm)   "
      ]
    },
    {
      "cell_type": "code",
      "execution_count": null,
      "metadata": {
        "colab": {
          "base_uri": "https://localhost:8080/"
        },
        "id": "baEfzg7q2WZI",
        "outputId": "6d8eef28-354a-4357-a9be-0a904fbad5ad"
      },
      "outputs": [
        {
          "output_type": "stream",
          "name": "stdout",
          "text": [
            "enter the value of x125\n",
            "enter the value of y254\n",
            "1\n"
          ]
        }
      ],
      "source": [
        "x = int(input(\"enter the value of x\"))\n",
        "y = int(input(\"enter the value of y\"))\n",
        "if(x<y):\n",
        "  smaller = x\n",
        "if(y<x):\n",
        "  smaller =y\n",
        "for i in range(1 , smaller +1):\n",
        "  if( (x %i == 0) and (y% i ==0)):\n",
        "    hcf = i\n",
        "print(hcf)   "
      ]
    },
    {
      "cell_type": "code",
      "execution_count": null,
      "metadata": {
        "colab": {
          "base_uri": "https://localhost:8080/"
        },
        "id": "sm0M01hl-0cG",
        "outputId": "d4cb74cd-0de9-4495-b408-6c3e8e916584"
      },
      "outputs": [
        {
          "output_type": "stream",
          "name": "stdout",
          "text": [
            "enter the number236\n",
            "27730\n"
          ]
        }
      ],
      "source": [
        "suum= int(input(\"enter the number\"))\n",
        "c=0\n",
        "sum = str(suum)\n",
        "for i in range(suum):\n",
        "  c +=i\n",
        "print(c) "
      ]
    },
    {
      "cell_type": "code",
      "execution_count": null,
      "metadata": {
        "colab": {
          "base_uri": "https://localhost:8080/"
        },
        "id": "r5sFx6bQRMah",
        "outputId": "b250cdae-d9c0-48df-e8a6-218b7f5cb68d"
      },
      "outputs": [
        {
          "output_type": "stream",
          "name": "stdout",
          "text": [
            "3\n",
            "2 3 5\n",
            "5 3 2\n"
          ]
        }
      ],
      "source": [
        "x = int(input())\n",
        "a = [int(x)for x in input().split()]\n",
        "c= a[::-1]\n",
        "print(*c)"
      ]
    },
    {
      "cell_type": "code",
      "source": [
        "n = int(input(\"enter the number of rows\"))\n",
        "for i in range(n):\n",
        "  for j in range(n):\n",
        "    print(\"*\",end=\" \")\n",
        "  print()  "
      ],
      "metadata": {
        "colab": {
          "base_uri": "https://localhost:8080/"
        },
        "id": "UBhFQWZ8ykYo",
        "outputId": "460a2cb5-2c9f-41b7-ee5a-0bddd9b077fa"
      },
      "execution_count": null,
      "outputs": [
        {
          "output_type": "stream",
          "name": "stdout",
          "text": [
            "enter the number of rows5\n",
            "* * * * * \n",
            "* * * * * \n",
            "* * * * * \n",
            "* * * * * \n",
            "* * * * * \n"
          ]
        }
      ]
    },
    {
      "cell_type": "code",
      "source": [
        "n = int(input(\"enter the number of rows\"))\n",
        "for i in range(n):\n",
        "  for j in range(n):\n",
        "    if(j==0 or j== n-1):\n",
        "      print(\"*\",end=\" \")\n",
        "    else:\n",
        "      print(\" \",end=\" \")\n",
        "  print()  "
      ],
      "metadata": {
        "colab": {
          "base_uri": "https://localhost:8080/"
        },
        "id": "w5iHDflDzAqJ",
        "outputId": "0f770ed9-d352-45c6-9e10-6c73510cd37c"
      },
      "execution_count": null,
      "outputs": [
        {
          "output_type": "stream",
          "name": "stdout",
          "text": [
            "enter the number of rows5\n",
            "*       * \n",
            "*       * \n",
            "*       * \n",
            "*       * \n",
            "*       * \n"
          ]
        }
      ]
    },
    {
      "cell_type": "code",
      "source": [
        "n = int(input(\"enter the number of rows\"))\n",
        "for i in range(n):\n",
        "  for j in range(n):\n",
        "    if(i==0):\n",
        "      print(\"*\",end=\" \")\n",
        "    else:\n",
        "      print(\" \",end=\" \")\n",
        "  print()  "
      ],
      "metadata": {
        "colab": {
          "base_uri": "https://localhost:8080/"
        },
        "id": "PL3ukmN50Ixm",
        "outputId": "564cdaaa-78da-4329-872c-854efb9ea43f"
      },
      "execution_count": null,
      "outputs": [
        {
          "output_type": "stream",
          "name": "stdout",
          "text": [
            "enter the number of rows5\n",
            "* * * * * \n",
            "          \n",
            "          \n",
            "          \n",
            "          \n"
          ]
        }
      ]
    },
    {
      "cell_type": "code",
      "source": [
        "n = int(input(\"enter the number of rows\"))\n",
        "for i in range(n):\n",
        "  for j in range(n):\n",
        "    if(i==n//2 or j== n//2):\n",
        "      print(\"*\",end=\" \")\n",
        "    else:\n",
        "      print(\" \",end=\" \")\n",
        "  print()  "
      ],
      "metadata": {
        "colab": {
          "base_uri": "https://localhost:8080/"
        },
        "id": "1DCxFqPN0VpW",
        "outputId": "8f387ae6-6359-4adb-a05f-0f29d8fc8cc7"
      },
      "execution_count": null,
      "outputs": [
        {
          "output_type": "stream",
          "name": "stdout",
          "text": [
            "enter the number of rows5\n",
            "    *     \n",
            "    *     \n",
            "* * * * * \n",
            "    *     \n",
            "    *     \n"
          ]
        }
      ]
    },
    {
      "cell_type": "code",
      "source": [
        "n = int(input(\"enter the number of rows\"))\n",
        "for i in range(n):\n",
        "  for j in range(n):\n",
        "    if(i==0 or j== n-1 or i == n-1 or j==0):\n",
        "      print(\"*\",end=\" \")\n",
        "    else:\n",
        "      print(\" \",end=\" \")\n",
        "  print()  "
      ],
      "metadata": {
        "colab": {
          "base_uri": "https://localhost:8080/"
        },
        "id": "SijOeMYc0lvE",
        "outputId": "61e40ed1-03f0-4a59-fed1-914b378bcb7b"
      },
      "execution_count": null,
      "outputs": [
        {
          "output_type": "stream",
          "name": "stdout",
          "text": [
            "enter the number of rows5\n",
            "* * * * * \n",
            "*       * \n",
            "*       * \n",
            "*       * \n",
            "* * * * * \n"
          ]
        }
      ]
    },
    {
      "cell_type": "code",
      "source": [
        "n = int(input(\"enter the number of rows\"))\n",
        "for i in range(n):\n",
        "  for j in range(n):\n",
        "    if(j==i or j== n-1 or i == 0):\n",
        "      print(\"*\",end=\" \")\n",
        "    else:\n",
        "      print(\" \",end=\" \")\n",
        "  print()  "
      ],
      "metadata": {
        "colab": {
          "base_uri": "https://localhost:8080/"
        },
        "id": "YOdh3UmE6qtH",
        "outputId": "1047f920-f5f7-4714-ce78-3a076d369489"
      },
      "execution_count": null,
      "outputs": [
        {
          "output_type": "stream",
          "name": "stdout",
          "text": [
            "enter the number of rows5\n",
            "* * * * * \n",
            "  *     * \n",
            "    *   * \n",
            "      * * \n",
            "        * \n"
          ]
        }
      ]
    },
    {
      "cell_type": "code",
      "source": [
        "n = int(input(\"enter the number of rows\"))\n",
        "for i in range(n):\n",
        "  for j in range(i+1):\n",
        "    print(\" *\",end=\" \")\n",
        "  print()  "
      ],
      "metadata": {
        "colab": {
          "base_uri": "https://localhost:8080/"
        },
        "id": "0uoPcxjB6_vx",
        "outputId": "e52ed0f0-f820-4435-9b1e-76781e3d113a"
      },
      "execution_count": null,
      "outputs": [
        {
          "output_type": "stream",
          "name": "stdout",
          "text": [
            "enter the number of rows5\n",
            " * \n",
            " *  * \n",
            " *  *  * \n",
            " *  *  *  * \n",
            " *  *  *  *  * \n"
          ]
        }
      ]
    },
    {
      "cell_type": "code",
      "source": [
        "n = int(input(\"enter the number of rows\"))\n",
        "for i in range(n):\n",
        "  for j in range(i,n):\n",
        "    print(\"*\",end=\" \")\n",
        "  print()  "
      ],
      "metadata": {
        "colab": {
          "base_uri": "https://localhost:8080/"
        },
        "id": "yb5ZXtRQ7NzD",
        "outputId": "fc4103b3-3cda-4a98-9933-d5a47606f3ab"
      },
      "execution_count": null,
      "outputs": [
        {
          "output_type": "stream",
          "name": "stdout",
          "text": [
            "enter the number of rows5\n",
            "* * * * * \n",
            "* * * * \n",
            "* * * \n",
            "* * \n",
            "* \n"
          ]
        }
      ]
    },
    {
      "cell_type": "code",
      "source": [
        "n = int(input(\"enter the number of rows\"))\n",
        "for i in range(n):\n",
        "  for j in range(i,n):\n",
        "    print(\"\",end=\" \")\n",
        "  for j in range(n):\n",
        "    print(\" *\",end=\" \")  \n",
        "  print()  "
      ],
      "metadata": {
        "colab": {
          "base_uri": "https://localhost:8080/"
        },
        "id": "O0UFIXJkKuNH",
        "outputId": "a367dbd5-6fd1-454a-82ec-60a75b958d4c"
      },
      "execution_count": null,
      "outputs": [
        {
          "output_type": "stream",
          "name": "stdout",
          "text": [
            "enter the number of rows5\n",
            "      *  *  *  *  * \n",
            "     *  *  *  *  * \n",
            "    *  *  *  *  * \n",
            "   *  *  *  *  * \n",
            "  *  *  *  *  * \n"
          ]
        }
      ]
    },
    {
      "cell_type": "code",
      "source": [
        "n = int(input(\"enter the number of rows\"))\n",
        "p = 0\n",
        "for i in range(n):\n",
        "  for j in range(i+1):\n",
        "    print(p,end=\" \")\n",
        "    p= p+1\n",
        "  print()  "
      ],
      "metadata": {
        "colab": {
          "base_uri": "https://localhost:8080/"
        },
        "id": "c_VyrkTNMBuH",
        "outputId": "0d0e5a5e-82d4-48a3-968b-242f13b46036"
      },
      "execution_count": null,
      "outputs": [
        {
          "output_type": "stream",
          "name": "stdout",
          "text": [
            "enter the number of rows5\n",
            "0 \n",
            "1 2 \n",
            "3 4 5 \n",
            "6 7 8 9 \n",
            "10 11 12 13 14 \n"
          ]
        }
      ]
    },
    {
      "cell_type": "code",
      "source": [
        "n = int(input(\"enter the number of rows\"))\n",
        "p = 0\n",
        "for i in range(n):\n",
        "  for j in range(i+1):\n",
        "    print(p,end=\" \")\n",
        "  p= p+1\n",
        "  print()  "
      ],
      "metadata": {
        "colab": {
          "base_uri": "https://localhost:8080/"
        },
        "id": "sNNE6n0sUxfN",
        "outputId": "3d88ff90-b14d-4de0-9bee-1be7953b20aa"
      },
      "execution_count": null,
      "outputs": [
        {
          "output_type": "stream",
          "name": "stdout",
          "text": [
            "enter the number of rows5\n",
            "0 \n",
            "1 1 \n",
            "2 2 2 \n",
            "3 3 3 3 \n",
            "4 4 4 4 4 \n"
          ]
        }
      ]
    },
    {
      "cell_type": "code",
      "source": [
        "n = int(input(\"enter a number : \"))\n",
        "sum = 0\n",
        "c = 1\n",
        "for i in range(0,n):\n",
        "  sum =  sum +c\n",
        "  c+=1\n",
        "print(sum)  \n"
      ],
      "metadata": {
        "colab": {
          "base_uri": "https://localhost:8080/"
        },
        "id": "QfrOWID3RIyY",
        "outputId": "a2d7877f-b1cf-41ef-f311-8be82d8ec7d4"
      },
      "execution_count": null,
      "outputs": [
        {
          "output_type": "stream",
          "name": "stdout",
          "text": [
            "enter a number : 15\n",
            "120\n"
          ]
        }
      ]
    }
  ],
  "metadata": {
    "colab": {
      "collapsed_sections": [],
      "name": "Practice.ipy",
      "provenance": [],
      "authorship_tag": "ABX9TyOPu1nrqoD5QQmZB1gTVOsh",
      "include_colab_link": true
    },
    "kernelspec": {
      "display_name": "Python 3",
      "name": "python3"
    },
    "language_info": {
      "name": "python"
    }
  },
  "nbformat": 4,
  "nbformat_minor": 0
}